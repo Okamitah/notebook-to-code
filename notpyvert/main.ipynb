{
  "cells": [
    {
      "cell_type": "code",
      "source": [
        "import argparse as ap\n",
        "from notpyvert.utils import handle_ipynb, handle_py\n",
        "\n",
        "def main():\n",
        "    parser = ap.ArgumentParser(\n",
        "        prog='notpyvert',\n",
        "        description='Convert from a Jupyter Notebook to a Python file, and vice versa.',\n",
        "    )\n",
        "    parser.add_argument('filename', help='Path to the .py or .ipynb file.')\n",
        "    args = parser.parse_args()\n",
        "\n",
        "    if args.filename.endswith(\".py\"):\n",
        "        handle_py(args.filename)\n",
        "    elif args.filename.endswith(\".ipynb\"):\n",
        "        handle_ipynb(args.filename)\n",
        "    else:\n",
        "        print(\"Unsupported file format. Please provide a .py or .ipynb file.\")\n",
        "\n",
        "\n",
        "\n",
        "\n",
        "if __name__ == \"__main__\":\n",
        "    main()\n"
      ],
      "metadata": {},
      "outputs": []
    }
  ],
  "metadata": {
    "kernelspec": {
      "display_name": "Python 3 (ipykernel)",
      "language": "python",
      "name": "myenv"
    },
    "language_info": {
      "codemirror_mode": {
        "name": "ipython",
        "version": 3
      },
      "file_extension": ".py",
      "mimetype": "text/x-python",
      "name": "python",
      "nbconvert_exporter": "python",
      "pygments_lexer": "ipython3",
      "version": "3.13.2"
    }
  },
  "nbformat": 4,
  "nbformat_minor": 5
}